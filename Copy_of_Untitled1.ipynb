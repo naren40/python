{
  "nbformat": 4,
  "nbformat_minor": 0,
  "metadata": {
    "colab": {
      "name": "Copy of Untitled1.ipynb",
      "provenance": [],
      "collapsed_sections": [],
      "include_colab_link": true
    },
    "kernelspec": {
      "name": "python3",
      "display_name": "Python 3"
    }
  },
  "cells": [
    {
      "cell_type": "markdown",
      "metadata": {
        "id": "view-in-github",
        "colab_type": "text"
      },
      "source": [
        "<a href=\"https://colab.research.google.com/github/naren40/python/blob/master/Copy_of_Untitled1.ipynb\" target=\"_parent\"><img src=\"https://colab.research.google.com/assets/colab-badge.svg\" alt=\"Open In Colab\"/></a>"
      ]
    },
    {
      "cell_type": "code",
      "metadata": {
        "id": "Vl3V2qoYEdb4",
        "colab_type": "code",
        "outputId": "88d83996-fdaf-44f3-8ba5-34cc3e77a904",
        "colab": {
          "base_uri": "https://localhost:8080/",
          "height": 35
        }
      },
      "source": [
        "#Check if the profit >0 by consecuting buying/selling and sum up the profits if there are any or else 0\n",
        "list = [7,1,9,3,10,19]\n",
        "profit = 0 \n",
        "fp=list[0]\n",
        "for i in range(len(list)-1):\n",
        "   if list[i+1] > fp:\n",
        "      profit = profit + list[i+1] - fp\n",
        "      fp = list[i+1]\n",
        "print(profit)\n",
        "    "
      ],
      "execution_count": 0,
      "outputs": [
        {
          "output_type": "stream",
          "text": [
            "12\n"
          ],
          "name": "stdout"
        }
      ]
    },
    {
      "cell_type": "code",
      "metadata": {
        "id": "BHg1GwGJCOUY",
        "colab_type": "code",
        "colab": {
          "base_uri": "https://localhost:8080/",
          "height": 69
        },
        "outputId": "e7bf6bc5-3dea-48d8-eb8b-62a8e4f24efe"
      },
      "source": [
        "import numpy as np\n",
        "print([i for i in np.arange(10) if (i % 2 == 0)])\n",
        "#  if (i % 2 == 0):\n",
        " #   print(i)\n",
        "\n",
        "import pickle\n",
        "\n",
        "#Here's an example dict\n",
        "grades = [1,2,3]\n",
        "\n",
        "#Use dumps to convert the object to a serialized string\n",
        "serial_grades = pickle.dumps( grades )\n",
        "print(serial_grades)\n",
        "received_grades = pickle.loads( serial_grades )\n",
        "print(len(received_grades))\n",
        "#import sys\n",
        "#print(sys.version) \n",
        "#import numpy\n",
        "#print(numpy.__version__)\n",
        "    "
      ],
      "execution_count": 44,
      "outputs": [
        {
          "output_type": "stream",
          "text": [
            "[0, 2, 4, 6, 8]\n",
            "b'\\x80\\x03]q\\x00(K\\x01K\\x02K\\x03e.'\n",
            "3\n"
          ],
          "name": "stdout"
        }
      ]
    },
    {
      "cell_type": "code",
      "metadata": {
        "id": "EKY0S8v9BCUW",
        "colab_type": "code",
        "colab": {
          "base_uri": "https://localhost:8080/",
          "height": 35
        },
        "outputId": "17f26396-bbfa-4251-e9ad-de0c67de90a1"
      },
      "source": [
        "def list_doubler(lst):\n",
        "  return [ele*2 for ele in lst]\n",
        "\n",
        "def long_words(list):\n",
        "  return [ word for word in list if len(word) > 5 ]\n",
        "    \n",
        "#list_doubler([1,4,5])\n",
        "#long_words(['sdfdsg','av','dsgdsgdg','fgf'])\n",
        "def converttolist(str):\n",
        "  str1 = list(str)\n",
        "  return set(str1)\n",
        "\n",
        "converttolist('abcdcd')"
      ],
      "execution_count": 10,
      "outputs": [
        {
          "output_type": "execute_result",
          "data": {
            "text/plain": [
              "{'a', 'b', 'c', 'd'}"
            ]
          },
          "metadata": {
            "tags": []
          },
          "execution_count": 10
        }
      ]
    },
    {
      "cell_type": "code",
      "metadata": {
        "id": "Itrudsd56BFN",
        "colab_type": "code",
        "colab": {
          "base_uri": "https://localhost:8080/",
          "height": 381
        },
        "outputId": "9f704023-cc1c-407a-c2a0-de9d9adb215b"
      },
      "source": [
        "def product(list,k):\n",
        "  list.sort()\n",
        "  print(list)\n",
        "  length = len(list)\n",
        "  for i in range(length):\n",
        "    for j in range(length-1-i):\n",
        "      print(list[j],list[length-1-i],list[j] + list[length-1-i])\n",
        "      if list[j] + list[length-1-i] == k :\n",
        "        print(\"Found in \"+str(j+i+k)+\" Iteration\")\n",
        "        break\n",
        "      else:\n",
        "        continue \n",
        "      k = j + i;\n",
        "    print(k)\n",
        "    print(\"Not found in \"+str(i)+\" Iteration\") \n",
        "        \n",
        "      \n",
        "    \"\"\"print(list[i],list[length-1],list[i] + list[length-1])\n",
        "    if list[i] + list[length-1] == k :\n",
        "      print(\"Found in \"+str(i+1)+\" Iteration\")\n",
        "      break\n",
        "    else: \n",
        "      continue\n",
        "      #print(\"Not found in \"+str(i)+\" Iteration\")\n",
        "      \"\"\"\n",
        "\n",
        "product([1,4,6,3,5],9)\n",
        "      \n",
        "    "
      ],
      "execution_count": 37,
      "outputs": [
        {
          "output_type": "stream",
          "text": [
            "[1, 3, 4, 5, 6]\n",
            "1 6 7\n",
            "3 6 9\n",
            "Found in 10 Iteration\n",
            "9\n",
            "Not found in 0 Iteration\n",
            "1 5 6\n",
            "3 5 8\n",
            "4 5 9\n",
            "Found in 12 Iteration\n",
            "9\n",
            "Not found in 1 Iteration\n",
            "1 4 5\n",
            "3 4 7\n",
            "9\n",
            "Not found in 2 Iteration\n",
            "1 3 4\n",
            "9\n",
            "Not found in 3 Iteration\n",
            "9\n",
            "Not found in 4 Iteration\n"
          ],
          "name": "stdout"
        }
      ]
    },
    {
      "cell_type": "code",
      "metadata": {
        "id": "zgAIjd_HlKJh",
        "colab_type": "code",
        "colab": {
          "base_uri": "https://localhost:8080/",
          "height": 35
        },
        "outputId": "0c870a6a-a504-4552-d88e-bd27b4e34f35"
      },
      "source": [
        "class A:\n",
        "  def sum(self,a=None,b=None,c=None):\n",
        "    if a != None and b != None and c!= None:\n",
        "      return a + b +c\n",
        "    elif a != None and b != None:\n",
        "      return a + b\n",
        "    else:\n",
        "      return a\n",
        "    \n",
        "      \n",
        "#class B(A):\n",
        " # def sum(self,a,b,c):\n",
        "   # print(\"Printing from B\", a + b +c)\n",
        "    \n",
        "#obj = A()\n",
        "\n",
        "print(A().sum(35,25))"
      ],
      "execution_count": 51,
      "outputs": [
        {
          "output_type": "stream",
          "text": [
            "60\n"
          ],
          "name": "stdout"
        }
      ]
    },
    {
      "cell_type": "code",
      "metadata": {
        "id": "JDQjA8mqy3sk",
        "colab_type": "code",
        "colab": {
          "base_uri": "https://localhost:8080/",
          "height": 52
        },
        "outputId": "14fef668-cc15-4dee-dc73-1f58b778f1a2"
      },
      "source": [
        "\"\"\" Method overriding\"\"\"\n",
        "class A:\n",
        "  def func1(self):\n",
        "    print(\"func1: Am being called from Class A\")\n",
        "  def func2(self):\n",
        "    print(\"func2: Am being called from Class A\")\n",
        "class B(A): #inheriting the func1, func2 from Class B but func1 is over\n",
        "  def func1(self):\n",
        "    print(\"func1: Am being called from Class B\")\n",
        "    \n",
        "obj = B()\n",
        "obj.func1()\n",
        "obj.func2()\n",
        "    "
      ],
      "execution_count": 53,
      "outputs": [
        {
          "output_type": "stream",
          "text": [
            "func1: Am being called from Class B\n",
            "func2: Am being called from Class A\n"
          ],
          "name": "stdout"
        }
      ]
    },
    {
      "cell_type": "code",
      "metadata": {
        "id": "gv3iJNmj1s3O",
        "colab_type": "code",
        "colab": {
          "base_uri": "https://localhost:8080/",
          "height": 52
        },
        "outputId": "9e5a5d39-dd0a-4844-8583-14307f324ca0"
      },
      "source": [
        "import numpy as np \n",
        "class A:\n",
        "  def sum(self,list):\n",
        "    return np.sum(list)  \n",
        "  def mul(self,list):\n",
        "    return np.prod(list)\n",
        "\n",
        "\n",
        "objA = A()\n",
        "print(objA.sum([3,4,2]))\n",
        "print(objA.mul([3,4,2]))\n",
        "\n"
      ],
      "execution_count": 76,
      "outputs": [
        {
          "output_type": "stream",
          "text": [
            "9\n",
            "24\n"
          ],
          "name": "stdout"
        }
      ]
    },
    {
      "cell_type": "code",
      "metadata": {
        "id": "9f8t1Dzgxzxz",
        "colab_type": "code",
        "outputId": "809fb046-f27f-436b-ca98-ab5aa883df83",
        "colab": {
          "base_uri": "https://localhost:8080/",
          "height": 35
        }
      },
      "source": [
        "def hashmap(list):\n",
        "  dict={}\n",
        "  for indx in range(len(list)):\n",
        "     dict[indx]=hash(list[indx])\n",
        "  print(dict)\n",
        "hashmap([1,2.0,3.23,4])"
      ],
      "execution_count": 0,
      "outputs": [
        {
          "output_type": "stream",
          "text": [
            "{0: 1, 1: 2, 2: 530343892119149571, 3: 4}\n"
          ],
          "name": "stdout"
        }
      ]
    },
    {
      "cell_type": "code",
      "metadata": {
        "id": "jG1CWK3sM-UJ",
        "colab_type": "code",
        "colab": {}
      },
      "source": [
        ""
      ],
      "execution_count": 0,
      "outputs": []
    },
    {
      "cell_type": "code",
      "metadata": {
        "id": "S7zmUYxSs2fP",
        "colab_type": "code",
        "outputId": "ab0fc68e-aa6b-4c76-f4f3-99e06413b2d9",
        "colab": {
          "base_uri": "https://localhost:8080/",
          "height": 35
        }
      },
      "source": [
        "import timeit\n",
        "def consecutive_products(nums, k):\n",
        "    product = 1\n",
        "    output = []\n",
        "    for index in range(len(nums)):\n",
        "        #product *= nums[index]\n",
        "        #output.append(nums[index]) if index < k else product *= nums[index - k]\n",
        "        if (index < k -1 ):\n",
        "          product *= nums[index]\n",
        "          output.append(nums[index])\n",
        "        elif (index == k-1):\n",
        "          product *= nums[index]\n",
        "          output.append(product)\n",
        "        else:\n",
        "            product *= nums[index]/nums[index-k]\n",
        "            output.append(product)\n",
        "    return output\n",
        "\n",
        "#consecutive_products([2, 3, 654352435, 2524252,44543264362, 5, 4,35345435,2354653653653645], 3)\n",
        "timeit.repeat(lambda:consecutive_products([2, 3, 3,4, 5, 4,0,6],3))\n",
        "timeit.repeat(lambda:consecutive_products([2, 3, 654352435, 2524252,44543264362, 5, 4,35345435,2354653653653645],3))"
      ],
      "execution_count": 0,
      "outputs": [
        {
          "output_type": "execute_result",
          "data": {
            "text/plain": [
              "[2.5223241389994655, 2.51920138100013, 2.510684375999517]"
            ]
          },
          "metadata": {
            "tags": []
          },
          "execution_count": 47
        }
      ]
    },
    {
      "cell_type": "code",
      "metadata": {
        "id": "LYOcKlPvgdho",
        "colab_type": "code",
        "outputId": "21999b75-1bf5-429a-d5a3-b4f5bfd9575c",
        "colab": {
          "base_uri": "https://localhost:8080/",
          "height": 35
        }
      },
      "source": [
        "#Check if APPLE is present and print index\n",
        "def findapple(string):\n",
        "   return string.index('APPLE') if 'APPLE' in string else 0\n",
        "        \n",
        "findapple('PBLAHAPPLEPPLE')"
      ],
      "execution_count": 0,
      "outputs": [
        {
          "output_type": "execute_result",
          "data": {
            "text/plain": [
              "5"
            ]
          },
          "metadata": {
            "tags": []
          },
          "execution_count": 67
        }
      ]
    },
    {
      "cell_type": "code",
      "metadata": {
        "id": "IauXkjs-FI-l",
        "colab_type": "code",
        "outputId": "6ea9d584-c50f-492a-f28e-4f5809bb9d8c",
        "colab": {
          "base_uri": "https://localhost:8080/",
          "height": 35
        }
      },
      "source": [
        "#Find if there are any duplicates in a list\n",
        "list = [1,2,3,4,5,3,2]\n",
        "'''for ele in set(list):\n",
        "  if list.count(ele)>1:\n",
        "    print(ele)'''\n",
        "print([ele for ele in set(list) if list.count(ele)>1])"
      ],
      "execution_count": 0,
      "outputs": [
        {
          "output_type": "stream",
          "text": [
            "[2, 3]\n"
          ],
          "name": "stdout"
        }
      ]
    },
    {
      "cell_type": "code",
      "metadata": {
        "id": "_TMVWBoPjftc",
        "colab_type": "code",
        "outputId": "cbada7c2-23d9-4dbb-98ed-8e5c3d21f65d",
        "colab": {
          "base_uri": "https://localhost:8080/",
          "height": 35
        }
      },
      "source": [
        "strng='BLAHBLAHAPPLE'\n",
        "print(strng.index('APPLE'))\n",
        "  \n"
      ],
      "execution_count": 0,
      "outputs": [
        {
          "output_type": "stream",
          "text": [
            "8\n"
          ],
          "name": "stdout"
        }
      ]
    },
    {
      "cell_type": "code",
      "metadata": {
        "id": "gOJe9ZzdL5z0",
        "colab_type": "code",
        "outputId": "e9ce2e35-94ab-4fce-ac82-4321cf14803f",
        "colab": {
          "base_uri": "https://localhost:8080/",
          "height": 35
        }
      },
      "source": [
        "#Left shift the K number of elements from right\n",
        "def leftshift(list,k):\n",
        "  for _ in range(k):\n",
        "    ele = list.pop()\n",
        "    list.insert(0,ele)\n",
        "  print(list)\n",
        "\n",
        "#timeit.repeat(lambda: leftshift([1,4,5,3,2,1],3),number=10)\n",
        "leftshift([1,4,5,3,2,1],3)"
      ],
      "execution_count": 0,
      "outputs": [
        {
          "output_type": "stream",
          "text": [
            "[3, 2, 1, 1, 4, 5]\n"
          ],
          "name": "stdout"
        }
      ]
    },
    {
      "cell_type": "code",
      "metadata": {
        "id": "TsqTsDuEx8p8",
        "colab_type": "code",
        "outputId": "98a1526e-01aa-4194-eeeb-42e9a7498a3b",
        "colab": {
          "base_uri": "https://localhost:8080/",
          "height": 35
        }
      },
      "source": [
        "#Mulitply the last k with the current element Sliding window problem\n",
        "\n",
        "import timeit\n",
        "def leftslidebyk(list,k):\n",
        "  a = []\n",
        "  for i in range(len(list)):\n",
        "    if (i < k-1 ):\n",
        "      #a.append(list[i])\n",
        "      a.append(list[i])\n",
        "    else:\n",
        "        var = list[i]\n",
        "        for j in range(k-1):\n",
        "          var *= list[i-(j+1)] #var *\n",
        "        a.append(var)\n",
        "  return a\n",
        "  #print(\"Input: [\"+','.join([str(i) for i in list]) +\"]\") #Concatanete string with int\n",
        "  #print(\"Output: [\"+','.join([str(i) for i in a]) +\"]\")\n",
        "        \n",
        "#leftslidebyk([1,3,4,5,6,5],3)\n",
        "#timeit.timeit(lambda:leftslidebyk([1, 3, 3, 6, 5, 7, 0, -3],3),number=1)\n",
        "timeit.repeat(lambda:leftslidebyk([1, 3, 3, 6, 5, 7, 0, -3],3),number=3)\n",
        "    "
      ],
      "execution_count": 0,
      "outputs": [
        {
          "output_type": "execute_result",
          "data": {
            "text/plain": [
              "[6.00160001340555e-05, 2.2894000039741513e-05, 1.9693000012921402e-05]"
            ]
          },
          "metadata": {
            "tags": []
          },
          "execution_count": 77
        }
      ]
    },
    {
      "cell_type": "code",
      "metadata": {
        "id": "fo0qUefvi_Az",
        "colab_type": "code",
        "outputId": "2d88fb03-1f8f-4ee2-95b8-c8961d305116",
        "colab": {
          "base_uri": "https://localhost:8080/",
          "height": 35
        }
      },
      "source": [
        "def leftshiftbyK(list,k):\n",
        "  output = []\n",
        "  output = list[k:]\n",
        "  for i in range(k):\n",
        "    output.append(list[i])\n",
        "  return output\n",
        "\n",
        "leftshiftbyK([1,2,3,4,5,6,7],3)\n",
        "  "
      ],
      "execution_count": 0,
      "outputs": [
        {
          "output_type": "execute_result",
          "data": {
            "text/plain": [
              "[4, 5, 6, 7, 1, 2, 3]"
            ]
          },
          "metadata": {
            "tags": []
          },
          "execution_count": 13
        }
      ]
    },
    {
      "cell_type": "code",
      "metadata": {
        "id": "2xllAuH5Njbh",
        "colab_type": "code",
        "outputId": "0bec1bfb-7b80-4a26-8bf9-2814ee7c9d13",
        "colab": {
          "base_uri": "https://localhost:8080/",
          "height": 131
        }
      },
      "source": [
        "#class Solution:\n",
        "    #def maxProfit(self, prices: List[int]) -> int:\n",
        "    def maxProfit(list) :\n",
        "        profit = 0 \n",
        "        fp=List[0]\n",
        "        for i in range(len(List)-1):\n",
        "            if List[i+1] > fp:\n",
        "                profit = profit + List[i+1] - fp\n",
        "                fp = List[i+1]\n",
        "        return profit\n",
        "        \n",
        " maxProfit([1,4,6,3])\n"
      ],
      "execution_count": 0,
      "outputs": [
        {
          "output_type": "error",
          "ename": "IndentationError",
          "evalue": "ignored",
          "traceback": [
            "\u001b[0;36m  File \u001b[0;32m\"<ipython-input-57-37b7ace10c69>\"\u001b[0;36m, line \u001b[0;32m10\u001b[0m\n\u001b[0;31m    maxProfit([1,4,6,3])\u001b[0m\n\u001b[0m                        ^\u001b[0m\n\u001b[0;31mIndentationError\u001b[0m\u001b[0;31m:\u001b[0m unindent does not match any outer indentation level\n"
          ]
        }
      ]
    },
    {
      "cell_type": "code",
      "metadata": {
        "id": "cE_QHdzCeXDX",
        "colab_type": "code",
        "colab": {}
      },
      "source": [
        ""
      ],
      "execution_count": 0,
      "outputs": []
    },
    {
      "cell_type": "code",
      "metadata": {
        "id": "E5gsFYWPq4hz",
        "colab_type": "code",
        "outputId": "cd8a0059-b3d0-468d-cbc0-536b21b707d6",
        "colab": {
          "base_uri": "https://localhost:8080/",
          "height": 52
        }
      },
      "source": [
        "#Check string is palindrome or not\n",
        "import timeit\n",
        "\n",
        "def is_palindrome(str):\n",
        "  revstr = str[::-1]\n",
        " #revstr = ''.join(reversed(str))\n",
        "  if (str == revstr):\n",
        "    print(\"Given string \" + str +\" is palindrome\")\n",
        "  else:\n",
        "      print(\"Given string \" + str +\" is not palindrome\")\n",
        "\n",
        "timeit.repeat(lambda: is_palindrome('fdsgfdsgsgfgfgfgfdgfgffdgsdfdsafdsfdsfs'),repeat=1,number=1)\n"
      ],
      "execution_count": 0,
      "outputs": [
        {
          "output_type": "stream",
          "text": [
            "Given string fdsgfdsgsgfgfgfgfdgfgffdgsdfdsafdsfdsfs is not palindrome\n"
          ],
          "name": "stdout"
        },
        {
          "output_type": "execute_result",
          "data": {
            "text/plain": [
              "[0.0019211610001548252]"
            ]
          },
          "metadata": {
            "tags": []
          },
          "execution_count": 88
        }
      ]
    },
    {
      "cell_type": "code",
      "metadata": {
        "id": "87m8hy1BNHSG",
        "colab_type": "code",
        "outputId": "a587656b-5f87-460f-cba6-8009573136f6",
        "colab": {
          "base_uri": "https://localhost:8080/",
          "height": 104
        }
      },
      "source": [
        "def sum(list,k):\n",
        "  for i in range(len(list)):\n",
        "    #print(list[i],list[len(list)-1],list[i] + list[len(list)-1])\n",
        "    print([\"true\" if list[i] + list[len(list)-1] == k else \"false\"])\n",
        "    \n",
        "    \n",
        "    '''print(list[i],list[len(list)-1],list[i] + list[len(list)-1])\n",
        "    if (list[i] + list[len(list)-1] == k ):\n",
        "      print(\"true\")\n",
        "      break\n",
        "    else:\n",
        "      continue\n",
        "      print(\"false\")\n",
        "    '''     \n",
        "sum([1,3,5,6,8],13)"
      ],
      "execution_count": 0,
      "outputs": [
        {
          "output_type": "stream",
          "text": [
            "['false']\n",
            "['false']\n",
            "['true']\n",
            "['false']\n",
            "['false']\n"
          ],
          "name": "stdout"
        }
      ]
    },
    {
      "cell_type": "code",
      "metadata": {
        "id": "yL_vs0NqxvP2",
        "colab_type": "code",
        "outputId": "14620626-f43a-4f2a-da18-61c43d5d58f0",
        "colab": {
          "base_uri": "https://localhost:8080/",
          "height": 35
        }
      },
      "source": [
        "#Most common word in a sentence excluding banned word\n",
        "from collections import Counter\n",
        "def commonword(sentence, bannedword):\n",
        "  for c in ',.#?!':\n",
        "    sentence = sentence.replace(c,' ')\n",
        "  list = sentence.split()\n",
        "  #print(list)\n",
        "  sent_wo_bword = [word.lower() for word in list if word not in bannedword]\n",
        "  return Counter(sent_wo_bword).most_common(1)\n",
        "\n",
        "commonword('Bob hit a ball, the hit BALL flew far after after it was hit.','ball')"
      ],
      "execution_count": 0,
      "outputs": [
        {
          "output_type": "execute_result",
          "data": {
            "text/plain": [
              "[('hit', 3), ('after', 2), ('bob', 1)]"
            ]
          },
          "metadata": {
            "tags": []
          },
          "execution_count": 89
        }
      ]
    },
    {
      "cell_type": "code",
      "metadata": {
        "id": "ovx0ApjDehyl",
        "colab_type": "code",
        "outputId": "aa9c793e-ca18-44a5-be92-06e73116abf6",
        "colab": {
          "base_uri": "https://localhost:8080/",
          "height": 35
        }
      },
      "source": [
        "def maxslidingwindow(list,k):\n",
        "  output = []\n",
        "  lenk = len(list)-(k-1)\n",
        "  for i in range(lenk):\n",
        "    output.append(max(list[i:k+i]))\n",
        "  return output\n",
        "\n",
        "maxslidingwindow([1,3,-1,-3,5,3,6,7],4)\n"
      ],
      "execution_count": 0,
      "outputs": [
        {
          "output_type": "execute_result",
          "data": {
            "text/plain": [
              "[3, 5, 5, 6, 7]"
            ]
          },
          "metadata": {
            "tags": []
          },
          "execution_count": 26
        }
      ]
    },
    {
      "cell_type": "code",
      "metadata": {
        "id": "6r1HvQnO73eH",
        "colab_type": "code",
        "outputId": "09f4f34b-2cf3-4843-a60c-8895efe13446",
        "colab": {
          "base_uri": "https://localhost:8080/",
          "height": 104
        }
      },
      "source": [
        "def hashArray(list):\n",
        "  #hashlst = []\n",
        "  dict = {}\n",
        "  for ele in list:\n",
        "    dict[ele] = hash(ele)\n",
        "  return [print(key,\":\",value) for key,value in sorted(dict.items())]\n",
        "          #for i in range(len(list)):\n",
        "   # hashlst.append(hash(list[i]))\n",
        "    #dict[] = hash(list[i])\n",
        "  #hashlst.sort(reverse=True)\n",
        "   #return dict #hashlst #,dict\n",
        " # return [print(str(ele) +\":\"+ str(hash(ele))) for ele in list ]\n",
        "\n",
        "\n",
        "hashArray([5,1,0.3,9.1])"
      ],
      "execution_count": 46,
      "outputs": [
        {
          "output_type": "stream",
          "text": [
            "0.3 : 691752902764108160\n",
            "1 : 1\n",
            "5 : 5\n",
            "9.1 : 230584300921368585\n"
          ],
          "name": "stdout"
        },
        {
          "output_type": "execute_result",
          "data": {
            "text/plain": [
              "[None, None, None, None]"
            ]
          },
          "metadata": {
            "tags": []
          },
          "execution_count": 46
        }
      ]
    },
    {
      "cell_type": "code",
      "metadata": {
        "id": "-s9mJkEEDatR",
        "colab_type": "code",
        "outputId": "f2cff549-d75e-42be-a90a-9f82319f25df",
        "colab": {
          "base_uri": "https://localhost:8080/",
          "height": 260
        }
      },
      "source": [
        "#Using recursion\n",
        "def reverse(Strng): \n",
        "  i = 0\n",
        "  if len(Strng) == 0:\n",
        "    return Strng\n",
        "  else:\n",
        "    print(reverse(Strng[1:]),Strng[0],reverse(Strng[1:])+Strng[0])\n",
        "    return reverse(Strng[1:])+Strng[0]\n",
        "    #return ''.join(reversed(Strng))\n",
        "  \n",
        "reverse('ABC')"
      ],
      "execution_count": 36,
      "outputs": [
        {
          "output_type": "stream",
          "text": [
            " C C\n",
            " C C\n",
            "C B CB\n",
            " C C\n",
            " C C\n",
            " C C\n",
            "C B CB\n",
            " C C\n",
            "CB A CBA\n",
            " C C\n",
            " C C\n",
            "C B CB\n",
            " C C\n"
          ],
          "name": "stdout"
        },
        {
          "output_type": "execute_result",
          "data": {
            "text/plain": [
              "'CBA'"
            ]
          },
          "metadata": {
            "tags": []
          },
          "execution_count": 36
        }
      ]
    },
    {
      "cell_type": "code",
      "metadata": {
        "id": "aN0JG17QHDf5",
        "colab_type": "code",
        "outputId": "6ea544e6-e9df-4472-a689-15302157607d",
        "colab": {
          "base_uri": "https://localhost:8080/",
          "height": 35
        }
      },
      "source": [
        " def productOfInts(list):\n",
        "    product = 1\n",
        "    output = []\n",
        "    for i in range(len(list)):\n",
        "      product *= list[i]\n",
        "    for i in range(len(list)):\n",
        "      output.append(product/list[i])\n",
        "    return output\n",
        "\n",
        "productOfInts([2,1,3,4])"
      ],
      "execution_count": 0,
      "outputs": [
        {
          "output_type": "execute_result",
          "data": {
            "text/plain": [
              "[12.0, 24.0, 8.0, 6.0]"
            ]
          },
          "metadata": {
            "tags": []
          },
          "execution_count": 100
        }
      ]
    },
    {
      "cell_type": "code",
      "metadata": {
        "id": "5F9Tzr1sy2bN",
        "colab_type": "code",
        "colab": {
          "base_uri": "https://localhost:8080/",
          "height": 243
        },
        "outputId": "6daa96ed-58ef-4372-d8e0-3de19ef4fffa"
      },
      "source": [
        "import pandas as pd\n",
        "import numpy as np\n",
        "#df = pd.Series(range(10))\n",
        "df = pd.DataFrame(np.random.randn(6,4),columns=list('ABCD'))\n",
        "#f = pd.DataFrame(np.nan, index=np.random.randn(6,4),columns=list('ABCD'))\n",
        "#df = pd.DataFrame(np.nan, index = np.random.randn(6,4), columns = ['A'])\n",
        "#pd.DataFrame(np.nan, index=[0,1,2,3], columns=['A'])\n",
        "df.B = df[2:]['B'].fillna(np.nan) \n",
        "#df.isnull().sum()\n",
        "#df.B = df.B.fillna(0) #replacing nulls with 0\n",
        "df.isnull().sum()\n",
        "print(df)\n",
        "\n",
        "df1 = pd.DataFrame([\n",
        "                   [1,3,4,5],\n",
        "                   [1,np.nan,4,5],\n",
        "                   [1,3,4,5]\n",
        "                   ],columns=list('abcd')\n",
        "                  )\n",
        "df2 = df1.dropna()\n",
        "df2.drop_duplicates(keep='first',inplace=True)\n",
        "print(df2)"
      ],
      "execution_count": 80,
      "outputs": [
        {
          "output_type": "stream",
          "text": [
            "          A         B         C         D\n",
            "0  0.637276       NaN  0.302325  0.889540\n",
            "1 -0.733988       NaN -2.319779 -2.248228\n",
            "2  0.133853 -0.148056 -0.618197  0.526839\n",
            "3  1.060511  0.879196 -0.411068 -1.413748\n",
            "4 -0.174026 -0.140572  0.609826  0.660924\n",
            "5  1.749038  0.460263 -0.103269  0.474412\n",
            "   a    b  c  d\n",
            "0  1  3.0  4  5\n"
          ],
          "name": "stdout"
        },
        {
          "output_type": "stream",
          "text": [
            "/usr/local/lib/python3.6/dist-packages/ipykernel_launcher.py:21: SettingWithCopyWarning: \n",
            "A value is trying to be set on a copy of a slice from a DataFrame\n",
            "\n",
            "See the caveats in the documentation: http://pandas.pydata.org/pandas-docs/stable/indexing.html#indexing-view-versus-copy\n"
          ],
          "name": "stderr"
        }
      ]
    },
    {
      "cell_type": "code",
      "metadata": {
        "id": "n04w-sUVbwnM",
        "colab_type": "code",
        "colab": {
          "base_uri": "https://localhost:8080/",
          "height": 35
        },
        "outputId": "8603f730-d3c1-4453-8f93-e0ae6674ca2e"
      },
      "source": [
        "#fibonacci Series, without use of Recursive\n",
        "import numpy as np\n",
        "def fibonacci(n):\n",
        "  list = [0,1]\n",
        "  for i in range(2,n):\n",
        "    list.append(list[i-2]+list[i-1])\n",
        " #return list\n",
        "  return np.sum(list)\n",
        "        \n",
        "fibonacci(7)\n"
      ],
      "execution_count": 105,
      "outputs": [
        {
          "output_type": "execute_result",
          "data": {
            "text/plain": [
              "20"
            ]
          },
          "metadata": {
            "tags": []
          },
          "execution_count": 105
        }
      ]
    },
    {
      "cell_type": "code",
      "metadata": {
        "id": "jPE_g9-A0yLl",
        "colab_type": "code",
        "colab": {
          "base_uri": "https://localhost:8080/",
          "height": 52
        },
        "outputId": "2a18f47a-eb8f-4642-b9c4-ad98a5e53113"
      },
      "source": [
        "import numpy as np\n",
        "def fact(n): \n",
        "  if n >= 1:\n",
        "    prod = 1\n",
        "    for i in range(n,1,-1):\n",
        "      prod *=  i\n",
        "    return prod\n",
        "  else:\n",
        "    print(\"Enter a number > 0 for factorial!\")\n",
        "    \n",
        "def fact1(n):\n",
        "  prod = 1\n",
        "  for i in range(1,n+1):\n",
        "    prod *= i\n",
        "  return prod\n",
        "\n",
        "    \n",
        "print(fact(5))\n",
        "print(fact1(5))\n"
      ],
      "execution_count": 21,
      "outputs": [
        {
          "output_type": "stream",
          "text": [
            "120\n",
            "120\n"
          ],
          "name": "stdout"
        }
      ]
    },
    {
      "cell_type": "code",
      "metadata": {
        "id": "s3v_rvvP5D-W",
        "colab_type": "code",
        "colab": {
          "base_uri": "https://localhost:8080/",
          "height": 304
        },
        "outputId": "a35a9c7f-35ac-46d3-f658-cefd39f5fbeb"
      },
      "source": [
        "%matplotlib inline\n",
        "import matplotlib.pyplot as plt\n",
        "from matplotlib import style\n",
        "#print(style.available)\n",
        "style.use(\"ggplot\")\n",
        "#plt.plot(['Science','Maths','Social'],[85,68,80],label=\"Tom\")\n",
        "plt.bar(['Science','Maths','Social'],[80,95,90],label=\"Jim\",color='b',align='center',alpha=0.5)\n",
        "plt.bar(['Science','Maths','Social'],[85,68,70],label=\"Tom\",color='y',align='center',alpha=0.5)\n",
        "plt.title('Results')\n",
        "plt.xlabel('Subject')\n",
        "plt.ylabel('Marks')\n",
        "plt.legend()\n",
        "plt.grid(True,color='y')"
      ],
      "execution_count": 158,
      "outputs": [
        {
          "output_type": "display_data",
          "data": {
            "image/png": "[encoded data removed]",
            "text/plain": [
              "<Figure size 432x288 with 1 Axes>"
            ]
          },
          "metadata": {
            "tags": []
          }
        }
      ]
    },
    {
      "cell_type": "code",
      "metadata": {
        "id": "Ugw1BhHZ3FDV",
        "colab_type": "code",
        "colab": {
          "base_uri": "https://localhost:8080/",
          "height": 351
        },
        "outputId": "7bb5d804-2522-4e30-efa7-86c5a536f3a4"
      },
      "source": [
        "%matplotlib inline\n",
        "import numpy as np\n",
        "import  matplotlib.pyplot as plt\n",
        "from matplotlib import style\n",
        "from sklearn.linear_model import LinearRegression\n",
        "\n",
        "heights = [[4.5] ,[5.0],[5.2],[5.8],[6.1]]\n",
        "weights = [[55],[62],[64],[90],[110]]\n",
        "plt.title(\"Height against weight\")\n",
        "plt.xlabel(\"Height in meters\")\n",
        "plt.ylabel(\"Weight in pounds\")\n",
        "style.use(\"ggplot\")\n",
        "#plt.scatter(heights,weights,color='b')\n",
        "plt.plot(heights,weights,'k.',color='b')\n",
        "\n",
        "#plt.legend()\n",
        "#Create and Fit the model\n",
        "model = LinearRegression()\n",
        "model.fit(X=heights,y=weights)\n",
        "#make prediction\n",
        "new_height = 5.5\n",
        "weight = model.predict([[new_height]])[0][0]\n",
        "print(\"Given height is: \" + str(new_height) +\"\\nPredicted Weight is: \" + str(round(weight,2)))\n",
        "plt.plot(heights,model.predict(heights),color='r')\n",
        "extreme_heights=[[3.2],[8.2]]\n",
        "plt.scatter(extreme_heights,model.predict(extreme_heights),color='r')\n",
        "print('Residual Sum of Squares[RSS]: %.2f' %\n",
        "      np.sum(weights - model.predict(heights)) **2)"
      ],
      "execution_count": 81,
      "outputs": [
        {
          "output_type": "stream",
          "text": [
            "Given height is: 5.5\n",
            "Predicted Weight is: 82.43\n",
            "Residual Sum of Squares[RSS]: 0.00\n"
          ],
          "name": "stdout"
        },
        {
          "output_type": "display_data",
          "data": {
            "image/png": "[encoded data removed]",
            "text/plain": [
              "<Figure size 432x288 with 1 Axes>"
            ]
          },
          "metadata": {
            "tags": []
          }
        }
      ]
    },
    {
      "cell_type": "code",
      "metadata": {
        "id": "DiBUx0HXAILQ",
        "colab_type": "code",
        "colab": {
          "base_uri": "https://localhost:8080/",
          "height": 87
        },
        "outputId": "ac218cf3-7a2c-483b-c5ca-13920f1c33b7"
      },
      "source": [
        "import numpy as np\n",
        "# Creates a list containing 5 lists, each of 8 items, all set to 0\n",
        "w, h = 8, 5;\n",
        "Matrix = [[x for x in range(w)] for y in range(h)]\n",
        "print(Matrix)\n",
        "\n",
        "rows =3\n",
        "columns= 2\n",
        "list = np.random.randint(1,10,5)\n",
        "print(list)\n",
        "mylist = [[0 for x in range(columns)] for x in range(rows)]\n",
        "print(mylist)\n",
        "for j in range(columns):\n",
        "  for i in range(rows):\n",
        "    mylist[i][j] = '%s,%s'%(i,j)\n",
        "print(mylist)"
      ],
      "execution_count": 14,
      "outputs": [
        {
          "output_type": "stream",
          "text": [
            "[[0, 1, 2, 3, 4, 5, 6, 7], [0, 1, 2, 3, 4, 5, 6, 7], [0, 1, 2, 3, 4, 5, 6, 7], [0, 1, 2, 3, 4, 5, 6, 7], [0, 1, 2, 3, 4, 5, 6, 7]]\n",
            "[7 2 5 3 8]\n",
            "[[0, 0], [0, 0], [0, 0]]\n",
            "[['0,0', '0,1'], ['1,0', '1,1'], ['2,0', '2,1']]\n"
          ],
          "name": "stdout"
        }
      ]
    }
  ]
}