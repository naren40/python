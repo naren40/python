{
  "nbformat": 4,
  "nbformat_minor": 0,
  "metadata": {
    "colab": {
      "name": "Copy of Untitled1.ipynb",
      "version": "0.3.2",
      "provenance": [],
      "collapsed_sections": [],
      "include_colab_link": true
    },
    "kernelspec": {
      "name": "python3",
      "display_name": "Python 3"
    }
  },
  "cells": [
    {
      "cell_type": "markdown",
      "metadata": {
        "id": "view-in-github",
        "colab_type": "text"
      },
      "source": [
        "<a href=\"https://colab.research.google.com/github/naren40/python/blob/master/Sample1.ipynb\" target=\"_parent\"><img src=\"https://colab.research.google.com/assets/colab-badge.svg\" alt=\"Open In Colab\"/></a>"
      ]
    },
    {
      "cell_type": "code",
      "metadata": {
        "id": "Vl3V2qoYEdb4",
        "colab_type": "code",
        "outputId": "88d83996-fdaf-44f3-8ba5-34cc3e77a904",
        "colab": {
          "base_uri": "https://localhost:8080/",
          "height": 35
        }
      },
      "source": [
        "#Check if the profit >0 by consecuting buying/selling and sum up the profits if there are any or else 0\n",
        "list = [7,1,9,3,10,19]\n",
        "profit = 0 \n",
        "fp=list[0]\n",
        "for i in range(len(list)-1):\n",
        "   if list[i+1] > fp:\n",
        "      profit = profit + list[i+1] - fp\n",
        "      fp = list[i+1]\n",
        "print(profit)\n",
        "    "
      ],
      "execution_count": 0,
      "outputs": [
        {
          "output_type": "stream",
          "text": [
            "12\n"
          ],
          "name": "stdout"
        }
      ]
    },
    {
      "cell_type": "code",
      "metadata": {
        "id": "9f8t1Dzgxzxz",
        "colab_type": "code",
        "outputId": "809fb046-f27f-436b-ca98-ab5aa883df83",
        "colab": {
          "base_uri": "https://localhost:8080/",
          "height": 35
        }
      },
      "source": [
        "def hashmap(list):\n",
        "  dict={}\n",
        "  for indx in range(len(list)):\n",
        "     dict[indx]=hash(list[indx])\n",
        "  print(dict)\n",
        "hashmap([1,2.0,3.23,4])"
      ],
      "execution_count": 0,
      "outputs": [
        {
          "output_type": "stream",
          "text": [
            "{0: 1, 1: 2, 2: 530343892119149571, 3: 4}\n"
          ],
          "name": "stdout"
        }
      ]
    },
    {
      "cell_type": "code",
      "metadata": {
        "id": "jG1CWK3sM-UJ",
        "colab_type": "code",
        "colab": {}
      },
      "source": [
        ""
      ],
      "execution_count": 0,
      "outputs": []
    },
    {
      "cell_type": "code",
      "metadata": {
        "id": "S7zmUYxSs2fP",
        "colab_type": "code",
        "outputId": "ab0fc68e-aa6b-4c76-f4f3-99e06413b2d9",
        "colab": {
          "base_uri": "https://localhost:8080/",
          "height": 35
        }
      },
      "source": [
        "import timeit\n",
        "def consecutive_products(nums, k):\n",
        "    product = 1\n",
        "    output = []\n",
        "    for index in range(len(nums)):\n",
        "        #product *= nums[index]\n",
        "        #output.append(nums[index]) if index < k else product *= nums[index - k]\n",
        "        if (index < k -1 ):\n",
        "          product *= nums[index]\n",
        "          output.append(nums[index])\n",
        "        elif (index == k-1):\n",
        "          product *= nums[index]\n",
        "          output.append(product)\n",
        "        else:\n",
        "            product *= nums[index]/nums[index-k]\n",
        "            output.append(product)\n",
        "    return output\n",
        "\n",
        "#consecutive_products([2, 3, 654352435, 2524252,44543264362, 5, 4,35345435,2354653653653645], 3)\n",
        "timeit.repeat(lambda:consecutive_products([2, 3, 3,4, 5, 4,0,6],3))\n",
        "timeit.repeat(lambda:consecutive_products([2, 3, 654352435, 2524252,44543264362, 5, 4,35345435,2354653653653645],3))"
      ],
      "execution_count": 0,
      "outputs": [
        {
          "output_type": "execute_result",
          "data": {
            "text/plain": [
              "[2.5223241389994655, 2.51920138100013, 2.510684375999517]"
            ]
          },
          "metadata": {
            "tags": []
          },
          "execution_count": 47
        }
      ]
    },
    {
      "cell_type": "code",
      "metadata": {
        "id": "LYOcKlPvgdho",
        "colab_type": "code",
        "outputId": "21999b75-1bf5-429a-d5a3-b4f5bfd9575c",
        "colab": {
          "base_uri": "https://localhost:8080/",
          "height": 35
        }
      },
      "source": [
        "#Check if APPLE is present and print index\n",
        "def findapple(string):\n",
        "   return string.index('APPLE') if 'APPLE' in string else 0\n",
        "        \n",
        "findapple('PBLAHAPPLEPPLE')"
      ],
      "execution_count": 0,
      "outputs": [
        {
          "output_type": "execute_result",
          "data": {
            "text/plain": [
              "5"
            ]
          },
          "metadata": {
            "tags": []
          },
          "execution_count": 67
        }
      ]
    },
    {
      "cell_type": "code",
      "metadata": {
        "id": "IauXkjs-FI-l",
        "colab_type": "code",
        "outputId": "6ea9d584-c50f-492a-f28e-4f5809bb9d8c",
        "colab": {
          "base_uri": "https://localhost:8080/",
          "height": 35
        }
      },
      "source": [
        "#Find if there are any duplicates in a list\n",
        "list = [1,2,3,4,5,3,2]\n",
        "'''for ele in set(list):\n",
        "  if list.count(ele)>1:\n",
        "    print(ele)'''\n",
        "print([ele for ele in set(list) if list.count(ele)>1])"
      ],
      "execution_count": 0,
      "outputs": [
        {
          "output_type": "stream",
          "text": [
            "[2, 3]\n"
          ],
          "name": "stdout"
        }
      ]
    },
    {
      "cell_type": "code",
      "metadata": {
        "id": "_TMVWBoPjftc",
        "colab_type": "code",
        "outputId": "cbada7c2-23d9-4dbb-98ed-8e5c3d21f65d",
        "colab": {
          "base_uri": "https://localhost:8080/",
          "height": 35
        }
      },
      "source": [
        "strng='BLAHBLAHAPPLE'\n",
        "print(strng.index('APPLE'))\n",
        "  \n"
      ],
      "execution_count": 0,
      "outputs": [
        {
          "output_type": "stream",
          "text": [
            "8\n"
          ],
          "name": "stdout"
        }
      ]
    },
    {
      "cell_type": "code",
      "metadata": {
        "id": "gOJe9ZzdL5z0",
        "colab_type": "code",
        "outputId": "e9ce2e35-94ab-4fce-ac82-4321cf14803f",
        "colab": {
          "base_uri": "https://localhost:8080/",
          "height": 35
        }
      },
      "source": [
        "#Left shift the K number of elements from right\n",
        "def leftshift(list,k):\n",
        "  for _ in range(k):\n",
        "    ele = list.pop()\n",
        "    list.insert(0,ele)\n",
        "  print(list)\n",
        "\n",
        "#timeit.repeat(lambda: leftshift([1,4,5,3,2,1],3),number=10)\n",
        "leftshift([1,4,5,3,2,1],3)"
      ],
      "execution_count": 0,
      "outputs": [
        {
          "output_type": "stream",
          "text": [
            "[3, 2, 1, 1, 4, 5]\n"
          ],
          "name": "stdout"
        }
      ]
    },
    {
      "cell_type": "code",
      "metadata": {
        "id": "TsqTsDuEx8p8",
        "colab_type": "code",
        "outputId": "98a1526e-01aa-4194-eeeb-42e9a7498a3b",
        "colab": {
          "base_uri": "https://localhost:8080/",
          "height": 35
        }
      },
      "source": [
        "#Mulitply the last k with the current element Sliding window problem\n",
        "\n",
        "import timeit\n",
        "def leftslidebyk(list,k):\n",
        "  a = []\n",
        "  for i in range(len(list)):\n",
        "    if (i < k-1 ):\n",
        "      #a.append(list[i])\n",
        "      a.append(list[i])\n",
        "    else:\n",
        "        var = list[i]\n",
        "        for j in range(k-1):\n",
        "          var *= list[i-(j+1)] #var *\n",
        "        a.append(var)\n",
        "  return a\n",
        "  #print(\"Input: [\"+','.join([str(i) for i in list]) +\"]\") #Concatanete string with int\n",
        "  #print(\"Output: [\"+','.join([str(i) for i in a]) +\"]\")\n",
        "        \n",
        "#leftslidebyk([1,3,4,5,6,5],3)\n",
        "#timeit.timeit(lambda:leftslidebyk([1, 3, 3, 6, 5, 7, 0, -3],3),number=1)\n",
        "timeit.repeat(lambda:leftslidebyk([1, 3, 3, 6, 5, 7, 0, -3],3),number=3)\n",
        "    "
      ],
      "execution_count": 0,
      "outputs": [
        {
          "output_type": "execute_result",
          "data": {
            "text/plain": [
              "[6.00160001340555e-05, 2.2894000039741513e-05, 1.9693000012921402e-05]"
            ]
          },
          "metadata": {
            "tags": []
          },
          "execution_count": 77
        }
      ]
    },
    {
      "cell_type": "code",
      "metadata": {
        "id": "fo0qUefvi_Az",
        "colab_type": "code",
        "outputId": "2d88fb03-1f8f-4ee2-95b8-c8961d305116",
        "colab": {
          "base_uri": "https://localhost:8080/",
          "height": 35
        }
      },
      "source": [
        "def leftshiftbyK(list,k):\n",
        "  output = []\n",
        "  output = list[k:]\n",
        "  for i in range(k):\n",
        "    output.append(list[i])\n",
        "  return output\n",
        "\n",
        "leftshiftbyK([1,2,3,4,5,6,7],3)\n",
        "  "
      ],
      "execution_count": 0,
      "outputs": [
        {
          "output_type": "execute_result",
          "data": {
            "text/plain": [
              "[4, 5, 6, 7, 1, 2, 3]"
            ]
          },
          "metadata": {
            "tags": []
          },
          "execution_count": 13
        }
      ]
    },
    {
      "cell_type": "code",
      "metadata": {
        "id": "2xllAuH5Njbh",
        "colab_type": "code",
        "outputId": "0bec1bfb-7b80-4a26-8bf9-2814ee7c9d13",
        "colab": {
          "base_uri": "https://localhost:8080/",
          "height": 131
        }
      },
      "source": [
        "#class Solution:\n",
        "    #def maxProfit(self, prices: List[int]) -> int:\n",
        "    def maxProfit(list) :\n",
        "        profit = 0 \n",
        "        fp=List[0]\n",
        "        for i in range(len(List)-1):\n",
        "            if List[i+1] > fp:\n",
        "                profit = profit + List[i+1] - fp\n",
        "                fp = List[i+1]\n",
        "        return profit\n",
        "        \n",
        " maxProfit([1,4,6,3])\n"
      ],
      "execution_count": 0,
      "outputs": [
        {
          "output_type": "error",
          "ename": "IndentationError",
          "evalue": "ignored",
          "traceback": [
            "\u001b[0;36m  File \u001b[0;32m\"<ipython-input-57-37b7ace10c69>\"\u001b[0;36m, line \u001b[0;32m10\u001b[0m\n\u001b[0;31m    maxProfit([1,4,6,3])\u001b[0m\n\u001b[0m                        ^\u001b[0m\n\u001b[0;31mIndentationError\u001b[0m\u001b[0;31m:\u001b[0m unindent does not match any outer indentation level\n"
          ]
        }
      ]
    },
    {
      "cell_type": "code",
      "metadata": {
        "id": "cE_QHdzCeXDX",
        "colab_type": "code",
        "colab": {}
      },
      "source": [
        ""
      ],
      "execution_count": 0,
      "outputs": []
    },
    {
      "cell_type": "code",
      "metadata": {
        "id": "E5gsFYWPq4hz",
        "colab_type": "code",
        "outputId": "cd8a0059-b3d0-468d-cbc0-536b21b707d6",
        "colab": {
          "base_uri": "https://localhost:8080/",
          "height": 52
        }
      },
      "source": [
        "#Check string is palindrome or not\n",
        "import timeit\n",
        "\n",
        "def is_palindrome(str):\n",
        "  revstr = str[::-1]\n",
        " #revstr = ''.join(reversed(str))\n",
        "  if (str == revstr):\n",
        "    print(\"Given string \" + str +\" is palindrome\")\n",
        "  else:\n",
        "      print(\"Given string \" + str +\" is not palindrome\")\n",
        "\n",
        "timeit.repeat(lambda: is_palindrome('fdsgfdsgsgfgfgfgfdgfgffdgsdfdsafdsfdsfs'),repeat=1,number=1)\n"
      ],
      "execution_count": 0,
      "outputs": [
        {
          "output_type": "stream",
          "text": [
            "Given string fdsgfdsgsgfgfgfgfdgfgffdgsdfdsafdsfdsfs is not palindrome\n"
          ],
          "name": "stdout"
        },
        {
          "output_type": "execute_result",
          "data": {
            "text/plain": [
              "[0.0019211610001548252]"
            ]
          },
          "metadata": {
            "tags": []
          },
          "execution_count": 88
        }
      ]
    },
    {
      "cell_type": "code",
      "metadata": {
        "id": "87m8hy1BNHSG",
        "colab_type": "code",
        "outputId": "a587656b-5f87-460f-cba6-8009573136f6",
        "colab": {
          "base_uri": "https://localhost:8080/",
          "height": 104
        }
      },
      "source": [
        "def sum(list,k):\n",
        "  for i in range(len(list)):\n",
        "    #print(list[i],list[len(list)-1],list[i] + list[len(list)-1])\n",
        "    print([\"true\" if list[i] + list[len(list)-1] == k else \"false\"])\n",
        "    \n",
        "    \n",
        "    '''print(list[i],list[len(list)-1],list[i] + list[len(list)-1])\n",
        "    if (list[i] + list[len(list)-1] == k ):\n",
        "      print(\"true\")\n",
        "      break\n",
        "    else:\n",
        "      continue\n",
        "      print(\"false\")\n",
        "    '''     \n",
        "sum([1,3,5,6,8],13)"
      ],
      "execution_count": 0,
      "outputs": [
        {
          "output_type": "stream",
          "text": [
            "['false']\n",
            "['false']\n",
            "['true']\n",
            "['false']\n",
            "['false']\n"
          ],
          "name": "stdout"
        }
      ]
    },
    {
      "cell_type": "code",
      "metadata": {
        "id": "yL_vs0NqxvP2",
        "colab_type": "code",
        "outputId": "14620626-f43a-4f2a-da18-61c43d5d58f0",
        "colab": {
          "base_uri": "https://localhost:8080/",
          "height": 35
        }
      },
      "source": [
        "#Most common word in a sentence excluding banned word\n",
        "from collections import Counter\n",
        "def commonword(sentence, bannedword):\n",
        "  for c in ',.#?!':\n",
        "    sentence = sentence.replace(c,' ')\n",
        "  list = sentence.split()\n",
        "  #print(list)\n",
        "  sent_wo_bword = [word.lower() for word in list if word not in bannedword]\n",
        "  return Counter(sent_wo_bword).most_common(1)\n",
        "\n",
        "commonword('Bob hit a ball, the hit BALL flew far after after it was hit.','ball')"
      ],
      "execution_count": 0,
      "outputs": [
        {
          "output_type": "execute_result",
          "data": {
            "text/plain": [
              "[('hit', 3), ('after', 2), ('bob', 1)]"
            ]
          },
          "metadata": {
            "tags": []
          },
          "execution_count": 89
        }
      ]
    },
    {
      "cell_type": "code",
      "metadata": {
        "id": "ovx0ApjDehyl",
        "colab_type": "code",
        "colab": {
          "base_uri": "https://localhost:8080/",
          "height": 35
        },
        "outputId": "aa9c793e-ca18-44a5-be92-06e73116abf6"
      },
      "source": [
        "def maxslidingwindow(list,k):\n",
        "  output = []\n",
        "  lenk = len(list)-(k-1)\n",
        "  for i in range(lenk):\n",
        "    output.append(max(list[i:k+i]))\n",
        "  return output\n",
        "\n",
        "maxslidingwindow([1,3,-1,-3,5,3,6,7],4)\n"
      ],
      "execution_count": 26,
      "outputs": [
        {
          "output_type": "execute_result",
          "data": {
            "text/plain": [
              "[3, 5, 5, 6, 7]"
            ]
          },
          "metadata": {
            "tags": []
          },
          "execution_count": 26
        }
      ]
    },
    {
      "cell_type": "code",
      "metadata": {
        "id": "6r1HvQnO73eH",
        "colab_type": "code",
        "colab": {
          "base_uri": "https://localhost:8080/",
          "height": 35
        },
        "outputId": "5fe86157-3b1e-46e4-9000-b4b7b9243d4b"
      },
      "source": [
        "def hashArray(list):\n",
        "  hashlst = []\n",
        "  #dict = {}\n",
        "  for i in range(len(list)):\n",
        "    hashlst.append(hash(list[i]))\n",
        "    dict[i] = hash(list[i])\n",
        "  hashlst.sort(reverse=True)\n",
        "  return hashlst #,dict\n",
        "\n",
        "hashArray([5,1,0.3,9.1])"
      ],
      "execution_count": 53,
      "outputs": [
        {
          "output_type": "execute_result",
          "data": {
            "text/plain": [
              "[691752902764108160, 230584300921368585, 5, 1]"
            ]
          },
          "metadata": {
            "tags": []
          },
          "execution_count": 53
        }
      ]
    },
    {
      "cell_type": "code",
      "metadata": {
        "id": "-s9mJkEEDatR",
        "colab_type": "code",
        "colab": {
          "base_uri": "https://localhost:8080/",
          "height": 35
        },
        "outputId": "2fc7e4c8-117a-4158-d83f-7177c9f8185b"
      },
      "source": [
        "#Using recursion\n",
        "def reverse(Strng): \n",
        "  i = 0\n",
        "  if len(Strng) == 0:\n",
        "    return Strng\n",
        "  else:\n",
        "    return reverse(Strng[1:])+Strng[0]\n",
        "    #return ''.join(reversed(Strng))\n",
        "  \n",
        "reverse('ABCD asgd')"
      ],
      "execution_count": 90,
      "outputs": [
        {
          "output_type": "execute_result",
          "data": {
            "text/plain": [
              "'dgsa DCBA'"
            ]
          },
          "metadata": {
            "tags": []
          },
          "execution_count": 90
        }
      ]
    },
    {
      "cell_type": "code",
      "metadata": {
        "id": "aN0JG17QHDf5",
        "colab_type": "code",
        "colab": {
          "base_uri": "https://localhost:8080/",
          "height": 35
        },
        "outputId": "6ea544e6-e9df-4472-a689-15302157607d"
      },
      "source": [
        " def productOfInts(list):\n",
        "    product = 1\n",
        "    output = []\n",
        "    for i in range(len(list)):\n",
        "      product *= list[i]\n",
        "    for i in range(len(list)):\n",
        "      output.append(product/list[i])\n",
        "    return output\n",
        "\n",
        "productOfInts([2,1,3,4])"
      ],
      "execution_count": 100,
      "outputs": [
        {
          "output_type": "execute_result",
          "data": {
            "text/plain": [
              "[12.0, 24.0, 8.0, 6.0]"
            ]
          },
          "metadata": {
            "tags": []
          },
          "execution_count": 100
        }
      ]
    }
  ]
}